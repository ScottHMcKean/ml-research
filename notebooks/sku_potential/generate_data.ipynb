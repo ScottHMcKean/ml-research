{
 "cells": [
  {
   "cell_type": "code",
   "execution_count": 0,
   "metadata": {
    "application/vnd.databricks.v1+cell": {
     "cellMetadata": {
      "byteLimit": 2048000,
      "rowLimit": 10000
     },
     "inputWidgets": {},
     "nuid": "a3fc5df2-cb3d-4500-b544-50f8b7868eb3",
     "showTitle": false,
     "tableResultSettingsMap": {},
     "title": ""
    }
   },
   "outputs": [],
   "source": [
    "%pip install faker\n",
    "%restart_python"
   ]
  },
  {
   "cell_type": "code",
   "execution_count": 0,
   "metadata": {
    "application/vnd.databricks.v1+cell": {
     "cellMetadata": {
      "byteLimit": 2048000,
      "rowLimit": 10000
     },
     "inputWidgets": {},
     "nuid": "5bce82d5-9008-4f3d-8287-d0a8072b146a",
     "showTitle": false,
     "tableResultSettingsMap": {},
     "title": ""
    }
   },
   "outputs": [],
   "source": [
    "import random\n",
    "\n",
    "import pandas as pd\n",
    "import numpy as np\n",
    "from faker import Faker\n",
    "\n",
    "faker = Faker()\n",
    "n = 1000\n",
    "\n",
    "data = {\n",
    "    'store_id': [f\"S{random.randint(1,100):03d}\" for _ in range(n)],\n",
    "    'product_id': [f\"P{random.randint(1000,2000)}\" for _ in range(n)],\n",
    "    'store_size': [random.choice(['S','M','L','XL']) for _ in range(n)],\n",
    "    'retail_sqft': np.random.normal(35000, 15000, n).round(2),\n",
    "    'province': [random.choice(['Ontario','Quebec','Alberta','BC','Manitoba','Saskatchewan','Nova Scotia','NL']) for _ in range(n)],\n",
    "    'region_name': [random.choice(['Central Canada','Western Canada','Eastern Canada','Prairie','Atlantic']) for _ in range(n)],\n",
    "    'area_name': [faker.city() for _ in range(n)],\n",
    "    'zone_id': [f\"DZ{random.randint(1,25):02d}\" for _ in range(n)],\n",
    "    'zone_desc': [faker.word().capitalize() + \" Zone\" for _ in range(n)],\n",
    "    'category_id': [f\"F{random.randint(100,800)}\" for _ in range(n)],\n",
    "    'category_name': [random.choice(['Beverages','Snacks','Dairy','Bakery','Meat','Frozen Foods','Produce','Household','Cleaning','Beauty']) for _ in range(n)],\n",
    "    'product_desc': [faker.catch_phrase() for _ in range(n)],\n",
    "    'price': np.random.uniform(0.99,9.99,n).round(2),\n",
    "    'unit_cube': np.random.uniform(0.001,0.015,n).round(3),\n",
    "    'units_sold': np.random.randint(200,12000,n),\n",
    "    'sales_dollar': np.random.uniform(500,80000,n).round(2),\n",
    "    'store_category_sales_dollar': np.random.uniform(900,90000,n).round(2),\n",
    "    'store_total_sales_dollar': np.random.uniform(10000,1000000,n).round(2),\n",
    "    'sku_sales_relative_to_category': np.random.uniform(0.1,0.6,n).round(2),\n",
    "    'sku_sales_relative_to_store': np.random.uniform(0.01,0.05,n).round(3),\n",
    "    'yoy_unit_growth': np.random.uniform(-5,7,n).round(1),\n",
    "    'yoy_dollar_growth': np.random.uniform(-2,8,n).round(1),\n",
    "    'units_sold_period': np.random.randint(100,1200,n),\n",
    "    'sales_dollar_period': np.random.uniform(300,9000,n).round(2),\n",
    "    'store_category_sales_dollar_period': np.random.uniform(500,7000,n).round(2),\n",
    "    'store_total_sales_dollar_period': np.random.uniform(2000,90000,n).round(2),\n",
    "    'sku_sales_relative_to_category_period': np.random.uniform(0.1,0.6,n).round(2),\n",
    "    'sku_sales_relative_to_store_period': np.random.uniform(0.01,0.04,n).round(3),\n",
    "    'sku_sales_ratio_rank': np.random.randint(1,60,n),\n",
    "    'store_final_rank': np.random.randint(1,400,n),\n",
    "    'avg_loc_count': np.random.uniform(1.3,7.5,n).round(1),\n",
    "    'avg_feature_area_count': np.random.uniform(0.3,2,n).round(1),\n",
    "    'avg_bincap': np.random.uniform(3,13,n).round(1),\n",
    "    'province_simple': [random.choice(['Ontario','Quebec','Alberta','BC','Manitoba','Saskatchewan','Nova Scotia','NL']) for _ in range(n)],\n",
    "    'region_simple': [random.choice(['Central','East','West','Pacific','Prairie','Atlantic']) for _ in range(n)],\n",
    "    'location_type': [random.choice(['Storefront Mall','Power Center','Community Plaza','Lifestyle Center','Regional Center','Local Plaza','Standalone Store','Power Strip']) for _ in range(n)],\n",
    "    'urban_rural': [random.choice(['Urban','Rural']) for _ in range(n)],\n",
    "    'retail_area': np.random.randint(600,2000,n),\n",
    "    'total_population': np.random.randint(18000,780000,n),\n",
    "    'families_with_kids_pct': np.random.uniform(18,40,n).round(1),\n",
    "    'total_households': np.random.randint(5000,300000,n),\n",
    "    'households_owned_pct': np.random.uniform(40,75,n).round(1),\n",
    "    'households_rent_pct': np.random.uniform(25,60,n).round(1),\n",
    "    'avg_household_income': np.random.uniform(41000,125000,n).round(0),\n",
    "}\n",
    "\n",
    "df = pd.DataFrame(data)"
   ]
  },
  {
   "cell_type": "code",
   "execution_count": 0,
   "metadata": {
    "application/vnd.databricks.v1+cell": {
     "cellMetadata": {
      "byteLimit": 2048000,
      "rowLimit": 10000
     },
     "inputWidgets": {},
     "nuid": "48c03575-38c2-420c-9fc5-b7b4ab4c0b0d",
     "showTitle": false,
     "tableResultSettingsMap": {},
     "title": ""
    }
   },
   "outputs": [],
   "source": [
    "df"
   ]
  },
  {
   "cell_type": "code",
   "execution_count": 0,
   "metadata": {
    "application/vnd.databricks.v1+cell": {
     "cellMetadata": {
      "byteLimit": 2048000,
      "rowLimit": 10000
     },
     "inputWidgets": {},
     "nuid": "07231415-1aa4-44a6-ba9b-52eb3a97b0da",
     "showTitle": false,
     "tableResultSettingsMap": {},
     "title": ""
    }
   },
   "outputs": [],
   "source": [
    "df.to_parquet('./fake_sku_data.parquet')"
   ]
  }
 ],
 "metadata": {
  "application/vnd.databricks.v1+notebook": {
   "computePreferences": {
    "hardware": {
     "accelerator": null,
     "gpuPoolId": null,
     "memory": null
    }
   },
   "dashboards": [],
   "environmentMetadata": {
    "base_environment": "",
    "environment_version": "3"
   },
   "inputWidgetPreferences": null,
   "language": "python",
   "notebookMetadata": {
    "pythonIndentUnit": 2
   },
   "notebookName": "generate_data",
   "widgets": {}
  },
  "language_info": {
   "name": "python"
  }
 },
 "nbformat": 4,
 "nbformat_minor": 0
}
