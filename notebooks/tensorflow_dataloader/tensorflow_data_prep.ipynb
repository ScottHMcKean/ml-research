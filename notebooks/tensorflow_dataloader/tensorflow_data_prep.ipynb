{
 "cells": [
  {
   "cell_type": "code",
   "execution_count": 0,
   "metadata": {
    "application/vnd.databricks.v1+cell": {
     "cellMetadata": {
      "byteLimit": 2048000,
      "rowLimit": 10000
     },
     "inputWidgets": {},
     "nuid": "b4862aac-727d-4977-9bd1-c137581fdbaa",
     "showTitle": false,
     "tableResultSettingsMap": {},
     "title": ""
    }
   },
   "outputs": [],
   "source": [
    "import tensorflow as tf\n",
    "from datasets import load_dataset\n",
    "cppe5 = load_dataset(\"cppe-5\")"
   ]
  },
  {
   "cell_type": "code",
   "execution_count": 0,
   "metadata": {
    "application/vnd.databricks.v1+cell": {
     "cellMetadata": {
      "byteLimit": 2048000,
      "rowLimit": 10000
     },
     "inputWidgets": {},
     "nuid": "e725c337-3887-406f-b04f-683e03c0a953",
     "showTitle": false,
     "tableResultSettingsMap": {},
     "title": ""
    }
   },
   "outputs": [],
   "source": [
    "import os\n",
    "import json\n",
    "from PIL import Image\n",
    "import io\n",
    "from tqdm import tqdm\n",
    "\n",
    "# Define single output path\n",
    "output_path = \"/Volumes/shm/default/cppe5\"\n",
    "os.makedirs(output_path, exist_ok=True)\n",
    "\n",
    "# Prepare all examples first\n",
    "def prepare_batch(examples, batch_size=50):\n",
    "    batches = []\n",
    "    current_batch = []\n",
    "    \n",
    "    for idx, example in enumerate(examples):\n",
    "        image = example['image']\n",
    "        image_filename = f\"image_{int(example['image_id']):04d}.png\"\n",
    "        \n",
    "        # Prepare image and annotation data\n",
    "        annotation = {\n",
    "            \"image_id\": example['image_id'],\n",
    "            \"file_name\": image_filename,\n",
    "            \"width\": example['width'],\n",
    "            \"height\": example['height'],\n",
    "            \"objects\": example['objects']\n",
    "        }\n",
    "        \n",
    "        current_batch.append((idx, image, image_filename, annotation))\n",
    "        \n",
    "        if len(current_batch) >= batch_size:\n",
    "            batches.append(current_batch)\n",
    "            current_batch = []\n",
    "    \n",
    "    if current_batch:\n",
    "        batches.append(current_batch)\n",
    "    \n",
    "    return batches\n",
    "\n",
    "# Process batches\n",
    "def save_batch(batch):\n",
    "    for idx, image, image_filename, annotation in batch:\n",
    "        try:\n",
    "            # Save image\n",
    "            image_path = os.path.join(output_path, image_filename)\n",
    "            image.save(image_path, optimize=True)\n",
    "            \n",
    "            # Save annotation alongside image\n",
    "            annotation_filename = image_filename.replace(\".png\",\".json\")\n",
    "            annotation_path = os.path.join(output_path, annotation_filename)\n",
    "            with open(annotation_path, 'w') as f:\n",
    "                json.dump(annotation, f)\n",
    "                \n",
    "        except Exception as e:\n",
    "            print(f\"Error processing example {idx}: {e}\")\n",
    "\n",
    "# Process all examples in batches\n",
    "batches = prepare_batch(cppe5['train'], batch_size=50)\n",
    "for batch in tqdm(batches, desc=\"Processing batches\"):\n",
    "    save_batch(batch)"
   ]
  }
 ],
 "metadata": {
  "application/vnd.databricks.v1+notebook": {
   "computePreferences": null,
   "dashboards": [],
   "environmentMetadata": null,
   "language": "python",
   "notebookMetadata": {
    "pythonIndentUnit": 2
   },
   "notebookName": "tensorflow_data_prep",
   "widgets": {}
  },
  "kernelspec": {
   "display_name": ".venv",
   "language": "python",
   "name": "python3"
  },
  "language_info": {
   "name": "python"
  }
 },
 "nbformat": 4,
 "nbformat_minor": 0
}
