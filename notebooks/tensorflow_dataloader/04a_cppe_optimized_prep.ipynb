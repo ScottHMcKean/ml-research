{
 "cells": [
  {
   "cell_type": "markdown",
   "metadata": {
    "application/vnd.databricks.v1+cell": {
     "cellMetadata": {},
     "inputWidgets": {},
     "nuid": "c6f9fd09-4286-49eb-86cd-aa96cfd701c9",
     "showTitle": false,
     "tableResultSettingsMap": {},
     "title": ""
    }
   },
   "source": [
    "# CPPE Object Detection Optimization\n",
    "\n",
    "\n",
    "https://huggingface.co/datasets/rishitdagli/cppe-5"
   ]
  },
  {
   "cell_type": "code",
   "execution_count": 0,
   "metadata": {
    "application/vnd.databricks.v1+cell": {
     "cellMetadata": {},
     "inputWidgets": {},
     "nuid": "ac47b0c9-6d82-465d-86fc-95be059287fc",
     "showTitle": false,
     "tableResultSettingsMap": {},
     "title": ""
    }
   },
   "outputs": [],
   "source": [
    "from model import build_object_detection_model"
   ]
  },
  {
   "cell_type": "code",
   "execution_count": 0,
   "metadata": {
    "application/vnd.databricks.v1+cell": {
     "cellMetadata": {},
     "inputWidgets": {},
     "nuid": "f0e47647-fa59-4a5b-867d-0cfdc2096691",
     "showTitle": false,
     "tableResultSettingsMap": {},
     "title": ""
    }
   },
   "outputs": [],
   "source": [
    "model = build_object_detection_model()"
   ]
  },
  {
   "cell_type": "code",
   "execution_count": 0,
   "metadata": {
    "application/vnd.databricks.v1+cell": {
     "cellMetadata": {},
     "inputWidgets": {},
     "nuid": "289542c3-a2a2-4d80-bd4c-f447e8bb3626",
     "showTitle": false,
     "tableResultSettingsMap": {},
     "title": ""
    }
   },
   "outputs": [],
   "source": []
  },
  {
   "cell_type": "code",
   "execution_count": 0,
   "metadata": {
    "application/vnd.databricks.v1+cell": {
     "cellMetadata": {
      "byteLimit": 2048000,
      "rowLimit": 10000
     },
     "inputWidgets": {},
     "nuid": "20e2d841-b22d-4e77-95ea-52c0a98421f8",
     "showTitle": false,
     "tableResultSettingsMap": {},
     "title": ""
    }
   },
   "outputs": [],
   "source": [
    "import tensorflow as tf\n",
    "import json\n",
    "import os\n",
    "import numpy as np\n",
    "from tqdm import tqdm\n",
    "\n",
    "def _bytes_feature(value):\n",
    "    \"\"\"Returns a bytes_list from a string / byte.\"\"\"\n",
    "    if isinstance(value, type(tf.constant(0))):\n",
    "        value = value.numpy()  # BytesList won't unpack a string from an EagerTensor.\n",
    "    return tf.train.Feature(bytes_list=tf.train.BytesList(value=[value]))\n",
    "\n",
    "def _float_feature(value):\n",
    "    \"\"\"Returns a float_list from a float / double.\"\"\"\n",
    "    return tf.train.Feature(float_list=tf.train.FloatList(value=value))\n",
    "\n",
    "def _int64_feature(value):\n",
    "    \"\"\"Returns an int64_list from a bool / enum / int / uint.\"\"\"\n",
    "    return tf.train.Feature(int64_list=tf.train.Int64List(value=value))\n",
    "\n",
    "def create_tf_example(image_path, img_shape=(224, 224)):\n",
    "    \"\"\"\n",
    "    Create a TFRecord example from an image and its annotation.\n",
    "    \n",
    "    Args:\n",
    "        image_path: Path to the image file\n",
    "        img_shape: Target shape for resizing images\n",
    "        \n",
    "    Returns:\n",
    "        tf.train.Example\n",
    "    \"\"\"\n",
    "    # Load image\n",
    "    img_data = tf.io.read_file(image_path)\n",
    "    \n",
    "    # Load annotation\n",
    "    annotation_path = image_path.replace('.png', '.json')\n",
    "    with open(annotation_path, 'r') as f:\n",
    "        ann = json.load(f)\n",
    "    \n",
    "    # Get image dimensions\n",
    "    img = tf.io.decode_png(img_data, channels=3)\n",
    "    height, width = tf.shape(img)[0].numpy(), tf.shape(img)[1].numpy()\n",
    "    \n",
    "    # Extract bounding boxes and categories\n",
    "    bboxes = np.array(ann['objects']['bbox'], dtype=np.float32)\n",
    "    categories = np.array(ann['objects']['category'], dtype=np.int32)\n",
    "    \n",
    "    # Convert bboxes to normalized format [xmin, ymin, xmax, ymax]\n",
    "    # Original format is [x, y, width, height]\n",
    "    xmins = bboxes[:, 0] / width\n",
    "    ymins = bboxes[:, 1] / height\n",
    "    xmaxs = (bboxes[:, 0] + bboxes[:, 2]) / width\n",
    "    ymaxs = (bboxes[:, 1] + bboxes[:, 3]) / height\n",
    "    \n",
    "    # Create TF Example\n",
    "    feature = {\n",
    "        'image/encoded': _bytes_feature(img_data),\n",
    "        'image/height': _int64_feature([height]),\n",
    "        'image/width': _int64_feature([width]),\n",
    "        'image/filename': _bytes_feature(os.path.basename(image_path).encode('utf8')),\n",
    "        'image/source_id': _bytes_feature(str(ann.get('image_id', 0)).encode('utf8')),\n",
    "        'image/object/bbox/xmin': _float_feature(xmins),\n",
    "        'image/object/bbox/ymin': _float_feature(ymins),\n",
    "        'image/object/bbox/xmax': _float_feature(xmaxs),\n",
    "        'image/object/bbox/ymax': _float_feature(ymaxs),\n",
    "        'image/object/class/label': _int64_feature(categories + 1),  # Add 1 because TF OD API uses 1-indexed classes\n",
    "    }\n",
    "    \n",
    "    return tf.train.Example(features=tf.train.Features(feature=feature))\n",
    "\n",
    "def convert_to_tfrecord(image_paths, output_path, num_shards=10):\n",
    "    \"\"\"\n",
    "    Convert a list of images and their annotations to TFRecord format.\n",
    "    \n",
    "    Args:\n",
    "        image_paths: List of paths to image files\n",
    "        output_path: Base path for output TFRecord files\n",
    "        num_shards: Number of shards to split the dataset into\n",
    "    \"\"\"\n",
    "    # Calculate number of examples per shard\n",
    "    num_examples = len(image_paths)\n",
    "    examples_per_shard = int(np.ceil(num_examples / num_shards))\n",
    "    \n",
    "    # Create TFRecord writers\n",
    "    writers = []\n",
    "    for i in range(num_shards):\n",
    "        shard_path = f\"{output_path}-{i:05d}-of-{num_shards:05d}.tfrecord\"\n",
    "        writers.append(tf.io.TFRecordWriter(shard_path))\n",
    "    \n",
    "    # Process each image and write to TFRecord\n",
    "    for idx, image_path in enumerate(tqdm(image_paths, desc=\"Converting to TFRecord\")):\n",
    "        try:\n",
    "            # Create TF Example\n",
    "            tf_example = create_tf_example(image_path)\n",
    "            \n",
    "            # Write to appropriate shard\n",
    "            shard_idx = idx // examples_per_shard\n",
    "            writers[shard_idx].write(tf_example.SerializeToString())\n",
    "        except Exception as e:\n",
    "            print(f\"Error processing {image_path}: {e}\")\n",
    "    \n",
    "    # Close all writers\n",
    "    for writer in writers:\n",
    "        writer.close()\n",
    "    \n",
    "    print(f\"Created {num_shards} TFRecord files at {output_path}\")\n",
    "\n",
    "def convert_dataset_to_tfrecord(data_dir, output_dir, split_ratio=0.8):\n",
    "    \"\"\"\n",
    "    Convert an entire dataset to TFRecord format with train/val split.\n",
    "    \n",
    "    Args:\n",
    "        data_dir: Directory containing images and annotations\n",
    "        output_dir: Directory to save TFRecord files\n",
    "        split_ratio: Ratio of train to validation data\n",
    "    \"\"\"\n",
    "    # Create output directory if it doesn't exist\n",
    "    os.makedirs(output_dir, exist_ok=True)\n",
    "    \n",
    "    # Get all image paths\n",
    "    image_paths = [os.path.join(data_dir, f) for f in os.listdir(data_dir) if f.endswith('.png')]\n",
    "    \n",
    "    # Shuffle image paths\n",
    "    np.random.shuffle(image_paths)\n",
    "    \n",
    "    # Split into train and validation sets\n",
    "    split_idx = int(len(image_paths) * split_ratio)\n",
    "    train_paths = image_paths[:split_idx]\n",
    "    val_paths = image_paths[split_idx:]\n",
    "    \n",
    "    # Convert train and validation sets to TFRecord\n",
    "    convert_to_tfrecord(train_paths, os.path.join(output_dir, 'train'), num_shards=max(1, len(train_paths) // 1000))\n",
    "    convert_to_tfrecord(val_paths, os.path.join(output_dir, 'val'), num_shards=max(1, len(val_paths) // 1000))\n",
    "    \n",
    "    print(f\"Converted {len(train_paths)} training images and {len(val_paths)} validation images to TFRecord format\")"
   ]
  },
  {
   "cell_type": "code",
   "execution_count": 0,
   "metadata": {
    "application/vnd.databricks.v1+cell": {
     "cellMetadata": {
      "byteLimit": 2048000,
      "rowLimit": 10000
     },
     "inputWidgets": {},
     "nuid": "996b555b-3401-4012-8737-438aa1e80e10",
     "showTitle": false,
     "tableResultSettingsMap": {},
     "title": ""
    }
   },
   "outputs": [],
   "source": [
    "tf_example = create_tf_example('/Volumes/shm/default/cppe5/image_0001.png')"
   ]
  }
 ],
 "metadata": {
  "application/vnd.databricks.v1+notebook": {
   "computePreferences": null,
   "dashboards": [],
   "environmentMetadata": {
    "base_environment": "",
    "environment_version": "2"
   },
   "language": "python",
   "notebookMetadata": {
    "pythonIndentUnit": 2
   },
   "notebookName": "04a_cppe_optimized_prep",
   "widgets": {}
  },
  "language_info": {
   "name": "python"
  }
 },
 "nbformat": 4,
 "nbformat_minor": 0
}
