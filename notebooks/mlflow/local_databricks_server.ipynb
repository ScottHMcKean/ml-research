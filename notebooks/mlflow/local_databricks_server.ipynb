{
 "cells": [
  {
   "cell_type": "markdown",
   "metadata": {},
   "source": [
    "This notebook provides a quick example of using a Databricks tracking server to access and use a logged model."
   ]
  },
  {
   "cell_type": "code",
   "execution_count": 31,
   "metadata": {},
   "outputs": [],
   "source": [
    "import os\n",
    "\n",
    "os.environ['MLFLOW_TRACKING_URI'] = 'databricks-uc'\n",
    "os.environ['DATABRICKS_HOST'] = 'adb-984752964297111.11.azuredatabricks.net'\n",
    "os.environ['DATABRICKS_TOKEN'] = 'dapi..'"
   ]
  },
  {
   "cell_type": "code",
   "execution_count": 3,
   "metadata": {},
   "outputs": [],
   "source": [
    "import mlflow\n",
    "mlflow.set_tracking_uri('databricks')\n",
    "mlflow.set_registry_uri('databricks-uc')\n",
    "\n",
    "experiment_id = 'c4b67a6b622a4467b79e8f81753c1fb6'\n",
    "experiment = mlflow.get_experiment(experiment_id)"
   ]
  },
  {
   "cell_type": "markdown",
   "metadata": {},
   "source": [
    "We can search runs using this experiment"
   ]
  },
  {
   "cell_type": "code",
   "execution_count": 9,
   "metadata": {},
   "outputs": [
    {
     "data": {
      "text/html": [
       "<div>\n",
       "<style scoped>\n",
       "    .dataframe tbody tr th:only-of-type {\n",
       "        vertical-align: middle;\n",
       "    }\n",
       "\n",
       "    .dataframe tbody tr th {\n",
       "        vertical-align: top;\n",
       "    }\n",
       "\n",
       "    .dataframe thead th {\n",
       "        text-align: right;\n",
       "    }\n",
       "</style>\n",
       "<table border=\"1\" class=\"dataframe\">\n",
       "  <thead>\n",
       "    <tr style=\"text-align: right;\">\n",
       "      <th></th>\n",
       "      <th>run_id</th>\n",
       "      <th>experiment_id</th>\n",
       "      <th>status</th>\n",
       "      <th>artifact_uri</th>\n",
       "      <th>start_time</th>\n",
       "      <th>end_time</th>\n",
       "      <th>metrics.valid_0-l2</th>\n",
       "      <th>metrics.custom_metric</th>\n",
       "      <th>params.learning_rate</th>\n",
       "      <th>params.num_leaves</th>\n",
       "      <th>...</th>\n",
       "      <th>tags.mlflow.databricks.gitRepoReferenceType</th>\n",
       "      <th>tags.mlflow.databricks.workspaceID</th>\n",
       "      <th>tags.sparkDatasourceInfo</th>\n",
       "      <th>tags.mlflow.databricks.gitRepoReference</th>\n",
       "      <th>tags.mlflow.databricks.cluster.info</th>\n",
       "      <th>tags.mlflow.databricks.gitRepoUrl</th>\n",
       "      <th>tags.mlflow.source.type</th>\n",
       "      <th>tags.mlflow.databricks.notebook.commandID</th>\n",
       "      <th>tags.mlflow.user</th>\n",
       "      <th>tags.mlflow.loggedArtifacts</th>\n",
       "    </tr>\n",
       "  </thead>\n",
       "  <tbody>\n",
       "    <tr>\n",
       "      <th>0</th>\n",
       "      <td>b1f92d1f13f64aaab5df646c51230098</td>\n",
       "      <td>c4b67a6b622a4467b79e8f81753c1fb6</td>\n",
       "      <td>FINISHED</td>\n",
       "      <td>dbfs:/databricks/mlflow-tracking/c4b67a6b622a4...</td>\n",
       "      <td>2025-02-20 16:44:00.791000+00:00</td>\n",
       "      <td>2025-02-20 16:44:07.867000+00:00</td>\n",
       "      <td>NaN</td>\n",
       "      <td>NaN</td>\n",
       "      <td>None</td>\n",
       "      <td>None</td>\n",
       "      <td>...</td>\n",
       "      <td>branch</td>\n",
       "      <td>984752964297111</td>\n",
       "      <td>path=abfss:REDACTED_LOCAL_PART@unitydemo.dfs.c...</td>\n",
       "      <td>m5_benchmark</td>\n",
       "      <td>{\"cluster_name\":\"shm_ml_cpu_d16\",\"spark_versio...</td>\n",
       "      <td>https://github.com/ScottHMcKean/timeseries_res...</td>\n",
       "      <td>NOTEBOOK</td>\n",
       "      <td>1740065384976_7028051407422611977_45601b3af8ea...</td>\n",
       "      <td>scott.mckean@databricks.com</td>\n",
       "      <td>None</td>\n",
       "    </tr>\n",
       "    <tr>\n",
       "      <th>1</th>\n",
       "      <td>090ed983105341dd93aa2c8004dc6b28</td>\n",
       "      <td>c4b67a6b622a4467b79e8f81753c1fb6</td>\n",
       "      <td>FINISHED</td>\n",
       "      <td>dbfs:/databricks/mlflow-tracking/c4b67a6b622a4...</td>\n",
       "      <td>2025-02-20 16:43:21.543000+00:00</td>\n",
       "      <td>2025-02-20 16:43:59.275000+00:00</td>\n",
       "      <td>0.71504</td>\n",
       "      <td>1.767597e-12</td>\n",
       "      <td>0.05</td>\n",
       "      <td>31</td>\n",
       "      <td>...</td>\n",
       "      <td>branch</td>\n",
       "      <td>984752964297111</td>\n",
       "      <td>path=abfss:REDACTED_LOCAL_PART@unitydemo.dfs.c...</td>\n",
       "      <td>m5_benchmark</td>\n",
       "      <td>{\"cluster_name\":\"shm_ml_cpu_d16\",\"spark_versio...</td>\n",
       "      <td>https://github.com/ScottHMcKean/timeseries_res...</td>\n",
       "      <td>NOTEBOOK</td>\n",
       "      <td>1740065384976_5708687477746039863_022a30d7fa03...</td>\n",
       "      <td>scott.mckean@databricks.com</td>\n",
       "      <td>[{\"path\": \"train.parquet\", \"type\": \"table\"}, {...</td>\n",
       "    </tr>\n",
       "    <tr>\n",
       "      <th>2</th>\n",
       "      <td>e743843437e3436cafff68d9dc365d47</td>\n",
       "      <td>c4b67a6b622a4467b79e8f81753c1fb6</td>\n",
       "      <td>FINISHED</td>\n",
       "      <td>dbfs:/databricks/mlflow-tracking/c4b67a6b622a4...</td>\n",
       "      <td>2025-02-20 16:36:01.237000+00:00</td>\n",
       "      <td>2025-02-20 16:36:09.441000+00:00</td>\n",
       "      <td>NaN</td>\n",
       "      <td>NaN</td>\n",
       "      <td>None</td>\n",
       "      <td>None</td>\n",
       "      <td>...</td>\n",
       "      <td>branch</td>\n",
       "      <td>984752964297111</td>\n",
       "      <td>path=abfss:REDACTED_LOCAL_PART@unitydemo.dfs.c...</td>\n",
       "      <td>m5_benchmark</td>\n",
       "      <td>{\"cluster_name\":\"shm_ml_cpu_d16\",\"spark_versio...</td>\n",
       "      <td>https://github.com/ScottHMcKean/timeseries_res...</td>\n",
       "      <td>NOTEBOOK</td>\n",
       "      <td>1740065384976_6045933118849256093_ad10346ca09d...</td>\n",
       "      <td>scott.mckean@databricks.com</td>\n",
       "      <td>None</td>\n",
       "    </tr>\n",
       "  </tbody>\n",
       "</table>\n",
       "<p>3 rows × 39 columns</p>\n",
       "</div>"
      ],
      "text/plain": [
       "                             run_id                     experiment_id  \\\n",
       "0  b1f92d1f13f64aaab5df646c51230098  c4b67a6b622a4467b79e8f81753c1fb6   \n",
       "1  090ed983105341dd93aa2c8004dc6b28  c4b67a6b622a4467b79e8f81753c1fb6   \n",
       "2  e743843437e3436cafff68d9dc365d47  c4b67a6b622a4467b79e8f81753c1fb6   \n",
       "\n",
       "     status                                       artifact_uri  \\\n",
       "0  FINISHED  dbfs:/databricks/mlflow-tracking/c4b67a6b622a4...   \n",
       "1  FINISHED  dbfs:/databricks/mlflow-tracking/c4b67a6b622a4...   \n",
       "2  FINISHED  dbfs:/databricks/mlflow-tracking/c4b67a6b622a4...   \n",
       "\n",
       "                        start_time                         end_time  \\\n",
       "0 2025-02-20 16:44:00.791000+00:00 2025-02-20 16:44:07.867000+00:00   \n",
       "1 2025-02-20 16:43:21.543000+00:00 2025-02-20 16:43:59.275000+00:00   \n",
       "2 2025-02-20 16:36:01.237000+00:00 2025-02-20 16:36:09.441000+00:00   \n",
       "\n",
       "   metrics.valid_0-l2  metrics.custom_metric params.learning_rate  \\\n",
       "0                 NaN                    NaN                 None   \n",
       "1             0.71504           1.767597e-12                 0.05   \n",
       "2                 NaN                    NaN                 None   \n",
       "\n",
       "  params.num_leaves  ... tags.mlflow.databricks.gitRepoReferenceType  \\\n",
       "0              None  ...                                      branch   \n",
       "1                31  ...                                      branch   \n",
       "2              None  ...                                      branch   \n",
       "\n",
       "  tags.mlflow.databricks.workspaceID  \\\n",
       "0                    984752964297111   \n",
       "1                    984752964297111   \n",
       "2                    984752964297111   \n",
       "\n",
       "                            tags.sparkDatasourceInfo  \\\n",
       "0  path=abfss:REDACTED_LOCAL_PART@unitydemo.dfs.c...   \n",
       "1  path=abfss:REDACTED_LOCAL_PART@unitydemo.dfs.c...   \n",
       "2  path=abfss:REDACTED_LOCAL_PART@unitydemo.dfs.c...   \n",
       "\n",
       "  tags.mlflow.databricks.gitRepoReference  \\\n",
       "0                            m5_benchmark   \n",
       "1                            m5_benchmark   \n",
       "2                            m5_benchmark   \n",
       "\n",
       "                 tags.mlflow.databricks.cluster.info  \\\n",
       "0  {\"cluster_name\":\"shm_ml_cpu_d16\",\"spark_versio...   \n",
       "1  {\"cluster_name\":\"shm_ml_cpu_d16\",\"spark_versio...   \n",
       "2  {\"cluster_name\":\"shm_ml_cpu_d16\",\"spark_versio...   \n",
       "\n",
       "                   tags.mlflow.databricks.gitRepoUrl tags.mlflow.source.type  \\\n",
       "0  https://github.com/ScottHMcKean/timeseries_res...                NOTEBOOK   \n",
       "1  https://github.com/ScottHMcKean/timeseries_res...                NOTEBOOK   \n",
       "2  https://github.com/ScottHMcKean/timeseries_res...                NOTEBOOK   \n",
       "\n",
       "           tags.mlflow.databricks.notebook.commandID  \\\n",
       "0  1740065384976_7028051407422611977_45601b3af8ea...   \n",
       "1  1740065384976_5708687477746039863_022a30d7fa03...   \n",
       "2  1740065384976_6045933118849256093_ad10346ca09d...   \n",
       "\n",
       "              tags.mlflow.user  \\\n",
       "0  scott.mckean@databricks.com   \n",
       "1  scott.mckean@databricks.com   \n",
       "2  scott.mckean@databricks.com   \n",
       "\n",
       "                         tags.mlflow.loggedArtifacts  \n",
       "0                                               None  \n",
       "1  [{\"path\": \"train.parquet\", \"type\": \"table\"}, {...  \n",
       "2                                               None  \n",
       "\n",
       "[3 rows x 39 columns]"
      ]
     },
     "execution_count": 9,
     "metadata": {},
     "output_type": "execute_result"
    }
   ],
   "source": [
    "runs = mlflow.search_runs(\n",
    "    experiment_names = [experiment.name],\n",
    "    max_results=3\n",
    ")\n",
    "runs"
   ]
  },
  {
   "cell_type": "markdown",
   "metadata": {},
   "source": [
    "We can also download artifacts, including the model files"
   ]
  },
  {
   "cell_type": "code",
   "execution_count": 29,
   "metadata": {},
   "outputs": [
    {
     "data": {
      "application/vnd.jupyter.widget-view+json": {
       "model_id": "75fc50707e9249a6b593a32b6c796d43",
       "version_major": 2,
       "version_minor": 0
      },
      "text/plain": [
       "Downloading artifacts:   0%|          | 0/9 [00:00<?, ?it/s]"
      ]
     },
     "metadata": {},
     "output_type": "display_data"
    },
    {
     "data": {
      "text/plain": [
       "'/var/folders/2x/pf13chqx4614qjlmjdgmndv00000gp/T/tmp3v75flfa/'"
      ]
     },
     "execution_count": 29,
     "metadata": {},
     "output_type": "execute_result"
    }
   ],
   "source": [
    "mlflow.artifacts.download_artifacts(run_id=runs.iloc[0].run_id)"
   ]
  },
  {
   "cell_type": "markdown",
   "metadata": {},
   "source": [
    "We can also directly load the model using MLFLow flavors and use it for prediction"
   ]
  },
  {
   "cell_type": "code",
   "execution_count": 24,
   "metadata": {},
   "outputs": [],
   "source": [
    "model_name = \"models:/shm.timeseries.lightgbm_model/11\"\n",
    "model = mlflow.lightgbm.load_model(model_name)"
   ]
  },
  {
   "cell_type": "code",
   "execution_count": 27,
   "metadata": {},
   "outputs": [
    {
     "data": {
      "text/html": [
       "<div>\n",
       "<style scoped>\n",
       "    .dataframe tbody tr th:only-of-type {\n",
       "        vertical-align: middle;\n",
       "    }\n",
       "\n",
       "    .dataframe tbody tr th {\n",
       "        vertical-align: top;\n",
       "    }\n",
       "\n",
       "    .dataframe thead th {\n",
       "        text-align: right;\n",
       "    }\n",
       "</style>\n",
       "<table border=\"1\" class=\"dataframe\">\n",
       "  <thead>\n",
       "    <tr style=\"text-align: right;\">\n",
       "      <th></th>\n",
       "      <th>lag1</th>\n",
       "      <th>lag2</th>\n",
       "      <th>lag3</th>\n",
       "      <th>lag7</th>\n",
       "      <th>lag14</th>\n",
       "      <th>lag30</th>\n",
       "      <th>lag360</th>\n",
       "      <th>expanding_mean_lag7</th>\n",
       "      <th>rolling_mean_lag14_window_size7</th>\n",
       "      <th>rolling_mean_lag30_window_size14</th>\n",
       "    </tr>\n",
       "  </thead>\n",
       "  <tbody>\n",
       "    <tr>\n",
       "      <th>0</th>\n",
       "      <td>3.0</td>\n",
       "      <td>11.0</td>\n",
       "      <td>2.0</td>\n",
       "      <td>2.0</td>\n",
       "      <td>3.0</td>\n",
       "      <td>0.0</td>\n",
       "      <td>27.0</td>\n",
       "      <td>10.954803</td>\n",
       "      <td>3.714286</td>\n",
       "      <td>0.0</td>\n",
       "    </tr>\n",
       "    <tr>\n",
       "      <th>1</th>\n",
       "      <td>3.0</td>\n",
       "      <td>3.0</td>\n",
       "      <td>11.0</td>\n",
       "      <td>4.0</td>\n",
       "      <td>5.0</td>\n",
       "      <td>0.0</td>\n",
       "      <td>32.0</td>\n",
       "      <td>10.935211</td>\n",
       "      <td>4.000000</td>\n",
       "      <td>0.0</td>\n",
       "    </tr>\n",
       "  </tbody>\n",
       "</table>\n",
       "</div>"
      ],
      "text/plain": [
       "   lag1  lag2  lag3  lag7  lag14  lag30  lag360  expanding_mean_lag7  \\\n",
       "0   3.0  11.0   2.0   2.0    3.0    0.0    27.0            10.954803   \n",
       "1   3.0   3.0  11.0   4.0    5.0    0.0    32.0            10.935211   \n",
       "\n",
       "   rolling_mean_lag14_window_size7  rolling_mean_lag30_window_size14  \n",
       "0                         3.714286                               0.0  \n",
       "1                         4.000000                               0.0  "
      ]
     },
     "execution_count": 27,
     "metadata": {},
     "output_type": "execute_result"
    }
   ],
   "source": [
    "import pandas as pd\n",
    "\n",
    "# Create a DataFrame from the data\n",
    "data = [[3.0, 11.0, 2.0, 2.0, 3.0, 0.0, 27.0, 10.954802513122559, 3.7142856121063232, 0.0],\n",
    "        [3.0, 3.0, 11.0, 4.0, 5.0, 0.0, 32.0, 10.935211181640625, 4.0, 0.0]]\n",
    "\n",
    "columns = [\"lag1\", \"lag2\", \"lag3\", \"lag7\", \"lag14\", \"lag30\", \"lag360\",\n",
    "           \"expanding_mean_lag7\", \"rolling_mean_lag14_window_size7\", \n",
    "           \"rolling_mean_lag30_window_size14\"]\n",
    "\n",
    "df = pd.DataFrame(data=data, columns=columns)\n",
    "df"
   ]
  },
  {
   "cell_type": "code",
   "execution_count": 28,
   "metadata": {},
   "outputs": [
    {
     "data": {
      "text/plain": [
       "array([3.46303008, 7.58185502])"
      ]
     },
     "execution_count": 28,
     "metadata": {},
     "output_type": "execute_result"
    }
   ],
   "source": [
    "model.predict(df)"
   ]
  }
 ],
 "metadata": {
  "kernelspec": {
   "display_name": ".venv",
   "language": "python",
   "name": "python3"
  },
  "language_info": {
   "codemirror_mode": {
    "name": "ipython",
    "version": 3
   },
   "file_extension": ".py",
   "mimetype": "text/x-python",
   "name": "python",
   "nbconvert_exporter": "python",
   "pygments_lexer": "ipython3",
   "version": "3.11.11"
  }
 },
 "nbformat": 4,
 "nbformat_minor": 2
}
