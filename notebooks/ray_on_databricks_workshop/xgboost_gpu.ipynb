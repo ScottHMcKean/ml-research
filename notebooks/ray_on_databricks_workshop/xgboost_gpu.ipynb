{
 "cells": [
  {
   "cell_type": "markdown",
   "metadata": {
    "application/vnd.databricks.v1+cell": {
     "cellMetadata": {},
     "inputWidgets": {},
     "nuid": "324f1d22-e3f4-4bab-ba24-0116484263b8",
     "showTitle": false,
     "tableResultSettingsMap": {},
     "title": ""
    }
   },
   "source": [
    "This is a quick demo of using Ray to Tune an XGBoost model using a GPU cluster to show utilization of both the driver and worker via ray.tune."
   ]
  },
  {
   "cell_type": "code",
   "execution_count": 0,
   "metadata": {
    "application/vnd.databricks.v1+cell": {
     "cellMetadata": {
      "byteLimit": 2048000,
      "rowLimit": 10000
     },
     "inputWidgets": {},
     "nuid": "368d3c6f-8d34-4a5c-af37-f52a0e1738f5",
     "showTitle": false,
     "tableResultSettingsMap": {},
     "title": ""
    }
   },
   "outputs": [],
   "source": [
    "from ray.util.spark import setup_ray_cluster, shutdown_ray_cluster\n",
    "from ray import train, tune\n",
    "import xgboost as xgb\n",
    "from sklearn.model_selection import train_test_split\n",
    "import sklearn.datasets\n",
    "import sklearn.metrics\n",
    "import ray\n",
    "\n",
    "spark.conf.set('spark.task.resource.gpu.amount', 0)\n",
    "\n",
    "setup_ray_cluster(\n",
    "  min_worker_nodes=2,\n",
    "  max_worker_nodes=2,\n",
    "  num_cpus_worker_node = 4,\n",
    "  num_gpus_worker_node = 1,\n",
    "  num_gpus_head_node = 1,\n",
    "  num_cpus_head_node= 4\n",
    ")\n",
    "\n",
    "# Pass any custom Ray configuration with ray.init\n",
    "ray.init(ignore_reinit_error=True)\n",
    "ray.cluster_resources()"
   ]
  },
  {
   "cell_type": "code",
   "execution_count": 0,
   "metadata": {
    "application/vnd.databricks.v1+cell": {
     "cellMetadata": {
      "byteLimit": 2048000,
      "rowLimit": 10000
     },
     "inputWidgets": {},
     "nuid": "66f193fe-4d1d-4f5d-95bd-ad3adf16cca3",
     "showTitle": false,
     "tableResultSettingsMap": {},
     "title": ""
    }
   },
   "outputs": [],
   "source": [
    "def train_breast_cancer(config):\n",
    "    # Load dataset\n",
    "    data, labels = sklearn.datasets.load_breast_cancer(return_X_y=True)\n",
    "    # Split into train and test set\n",
    "    train_x, test_x, train_y, test_y = train_test_split(data, labels, test_size=0.25)\n",
    "\n",
    "    # Build input matrices for XGBoost\n",
    "    train_set = xgb.DMatrix(train_x, label=train_y)\n",
    "    test_set = xgb.DMatrix(test_x, label=test_y)\n",
    "\n",
    "    # Train the classifier\n",
    "    results = {}\n",
    "    xgb.train(\n",
    "        config,\n",
    "        train_set,\n",
    "        num_boost_round=1000000,\n",
    "        evals=[(test_set, \"eval\")],\n",
    "        evals_result=results,\n",
    "        verbose_eval=False,\n",
    "    )\n",
    "\n",
    "    # Return prediction accuracy\n",
    "    accuracy = 1.0 - results[\"eval\"][\"error\"][-1]\n",
    "    train.report({\"mean_accuracy\": accuracy, \"done\": True})\n",
    "\n",
    "\n",
    "config = {\n",
    "    \"objective\": \"binary:logistic\",\n",
    "    \"device\": \"cuda\",\n",
    "    \"eval_metric\": [\"logloss\", \"error\"],\n",
    "    \"max_depth\": tune.randint(1, 9),\n",
    "    \"min_child_weight\": tune.choice([1, 2, 3]),\n",
    "    \"subsample\": tune.uniform(0.5, 1.0),\n",
    "    \"eta\": tune.loguniform(1e-4, 1e-1),\n",
    "}\n",
    "\n",
    "tuner = tune.Tuner(\n",
    "    tune.with_resources(train_breast_cancer, {\"gpu\": 1}),\n",
    "    tune_config=tune.TuneConfig(num_samples=10),\n",
    "    param_space=config,\n",
    ")\n",
    "\n",
    "results = tuner.fit()"
   ]
  }
 ],
 "metadata": {
  "application/vnd.databricks.v1+notebook": {
   "computePreferences": null,
   "dashboards": [],
   "environmentMetadata": {
    "base_environment": "",
    "environment_version": "2"
   },
   "language": "python",
   "notebookMetadata": {
    "pythonIndentUnit": 2
   },
   "notebookName": "xgboost_gpu",
   "widgets": {}
  },
  "language_info": {
   "name": "python"
  }
 },
 "nbformat": 4,
 "nbformat_minor": 0
}
