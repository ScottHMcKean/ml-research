{
 "cells": [
  {
   "cell_type": "markdown",
   "metadata": {
    "application/vnd.databricks.v1+cell": {
     "cellMetadata": {},
     "inputWidgets": {},
     "nuid": "0fe1de4b-6b6d-47cc-a3ff-c28b5cd180db",
     "showTitle": false,
     "tableResultSettingsMap": {},
     "title": ""
    }
   },
   "source": [
    "This notebook provides a very quick example of a pyfunc serving endpoint that queries an online table with passthrough authentication."
   ]
  },
  {
   "cell_type": "code",
   "execution_count": 0,
   "metadata": {
    "application/vnd.databricks.v1+cell": {
     "cellMetadata": {
      "byteLimit": 2048000,
      "rowLimit": 10000
     },
     "inputWidgets": {},
     "nuid": "ff4f45d0-32c7-4b90-a593-4ffda1b2666d",
     "showTitle": false,
     "tableResultSettingsMap": {},
     "title": ""
    }
   },
   "outputs": [],
   "source": [
    "%pip install databricks-feature-engineering\n",
    "%restart_python"
   ]
  },
  {
   "cell_type": "code",
   "execution_count": 0,
   "metadata": {
    "application/vnd.databricks.v1+cell": {
     "cellMetadata": {
      "byteLimit": 2048000,
      "rowLimit": 10000
     },
     "inputWidgets": {},
     "nuid": "1806e66e-d631-4fdd-9b5a-2edc037a515c",
     "showTitle": false,
     "tableResultSettingsMap": {},
     "title": ""
    }
   },
   "outputs": [],
   "source": [
    "feature_table = \"shm.iot_turbine.turbine_hourly_features\"\n",
    "pk_col = \"hourly_timestamp\"\n",
    "online_table_name = \"shm.iot_turbine.turbine_hourly_online\"\n",
    "feature_spec_name = \"shm.iot_turbine.turbine_hourly_spec\""
   ]
  },
  {
   "cell_type": "markdown",
   "metadata": {
    "application/vnd.databricks.v1+cell": {
     "cellMetadata": {},
     "inputWidgets": {},
     "nuid": "4288ee10-a989-429c-959c-255508211600",
     "showTitle": false,
     "tableResultSettingsMap": {},
     "title": ""
    }
   },
   "source": [
    "Create an online table"
   ]
  },
  {
   "cell_type": "code",
   "execution_count": 0,
   "metadata": {
    "application/vnd.databricks.v1+cell": {
     "cellMetadata": {
      "byteLimit": 2048000,
      "rowLimit": 10000
     },
     "inputWidgets": {},
     "nuid": "b7db1f46-642d-4221-8354-dba3b2b169b3",
     "showTitle": false,
     "tableResultSettingsMap": {},
     "title": ""
    }
   },
   "outputs": [],
   "source": [
    "from databricks.sdk import WorkspaceClient\n",
    "from databricks.sdk.service.catalog import OnlineTableSpec, OnlineTable\n",
    "\n",
    "w = WorkspaceClient()\n",
    "\n",
    "spec = OnlineTableSpec(\n",
    "    primary_key_columns=[pk_col],\n",
    "    source_table_full_name=feature_table,\n",
    "    perform_full_copy=True\n",
    ")\n",
    "\n",
    "online_table = OnlineTable(name=online_table_name, spec=spec)\n",
    "\n",
    "if not w.online_tables.get(online_table_name):\n",
    "    w.online_tables.create_and_wait(table=online_table)"
   ]
  },
  {
   "cell_type": "markdown",
   "metadata": {
    "application/vnd.databricks.v1+cell": {
     "cellMetadata": {},
     "inputWidgets": {},
     "nuid": "a549146c-1625-4dd6-977e-c7e173ecc885",
     "showTitle": false,
     "tableResultSettingsMap": {},
     "title": ""
    }
   },
   "source": [
    "Test the feature engineering engine"
   ]
  },
  {
   "cell_type": "code",
   "execution_count": 0,
   "metadata": {
    "application/vnd.databricks.v1+cell": {
     "cellMetadata": {
      "byteLimit": 2048000,
      "rowLimit": 10000
     },
     "inputWidgets": {},
     "nuid": "4babbf53-ee21-4fb6-94c4-419be236cccc",
     "showTitle": false,
     "tableResultSettingsMap": {},
     "title": ""
    }
   },
   "outputs": [],
   "source": [
    "display(spark.table(feature_table))"
   ]
  },
  {
   "cell_type": "markdown",
   "metadata": {
    "application/vnd.databricks.v1+cell": {
     "cellMetadata": {},
     "inputWidgets": {},
     "nuid": "5993aa5c-c07a-48cb-ac1b-77ca60630b5a",
     "showTitle": false,
     "tableResultSettingsMap": {},
     "title": ""
    }
   },
   "source": [
    "Create a UDF function to return daily values"
   ]
  },
  {
   "cell_type": "code",
   "execution_count": 0,
   "metadata": {
    "application/vnd.databricks.v1+cell": {
     "cellMetadata": {},
     "inputWidgets": {},
     "nuid": "b954db6e-fbf5-4cac-a3f4-5d7b830b4644",
     "showTitle": false,
     "tableResultSettingsMap": {},
     "title": ""
    }
   },
   "outputs": [],
   "source": [
    "%sql\n",
    "CREATE OR REPLACE FUNCTION shm.iot_turbine.calculate_daily_metrics()\n",
    "RETURNS TABLE (\n",
    "  turbine_id STRING,\n",
    "  date DATE,\n",
    "  daily_avg_energy DOUBLE,\n",
    "  abnormal_readings INT\n",
    ")\n",
    "RETURN\n",
    "  SELECT \n",
    "    turbine_id, \n",
    "    DATE(hourly_timestamp) as date, \n",
    "    AVG(avg_energy) as daily_avg_energy, \n",
    "    SUM(CASE WHEN abnormal_sensor != 'ok' THEN 1 ELSE 0 END) as abnormal_readings\n",
    "  FROM \n",
    "    shm.iot_turbine.turbine_hourly_features\n",
    "  GROUP BY \n",
    "    turbine_id, \n",
    "    DATE(hourly_timestamp);"
   ]
  },
  {
   "cell_type": "code",
   "execution_count": 0,
   "metadata": {
    "application/vnd.databricks.v1+cell": {
     "cellMetadata": {
      "byteLimit": 2048000,
      "rowLimit": 10000
     },
     "inputWidgets": {},
     "nuid": "80a403ca-97be-4b93-a719-2b719a244c51",
     "showTitle": false,
     "tableResultSettingsMap": {},
     "title": ""
    }
   },
   "outputs": [],
   "source": [
    "from databricks.feature_engineering import (\n",
    "  FeatureFunction,\n",
    "  FeatureLookup,\n",
    "  FeatureEngineeringClient,\n",
    ")\n",
    "\n",
    "fe = FeatureEngineeringClient()\n",
    "\n",
    "features = [\n",
    "  # Use our daily function.\n",
    "  FeatureFunction(\n",
    "    udf_name=\"shm.iot_turbine.calculate_daily_metrics\",\n",
    "    output_name=\"daily_metrics\",\n",
    "  ),\n",
    "]\n",
    "\n",
    "# Create a `FeatureSpec` with the features defined above.\n",
    "# The `FeatureSpec` can be accessed in Unity Catalog as a function.\n",
    "fe.create_feature_spec(\n",
    "  name=\"shm.iot_turbine.daily_metrics\",\n",
    "  features=features,\n",
    ")"
   ]
  },
  {
   "cell_type": "code",
   "execution_count": 0,
   "metadata": {
    "application/vnd.databricks.v1+cell": {
     "cellMetadata": {
      "byteLimit": 2048000,
      "rowLimit": 10000
     },
     "inputWidgets": {},
     "nuid": "10bd6fce-15f7-427a-beb3-2d74d70b9f95",
     "showTitle": false,
     "tableResultSettingsMap": {},
     "title": ""
    }
   },
   "outputs": [],
   "source": [
    "from databricks.sdk import WorkspaceClient\n",
    "from databricks.sdk.service.serving import EndpointCoreConfigInput, ServedEntityInput\n",
    "\n",
    "workspace = WorkspaceClient()\n",
    "\n",
    "# Create endpoint\n",
    "endpoint_name = \"shm-fse-test\"\n",
    "\n",
    "workspace.serving_endpoints.create_and_wait(\n",
    "  name=endpoint_name,\n",
    "  config=EndpointCoreConfigInput(\n",
    "    served_entities=[\n",
    "      ServedEntityInput(\n",
    "        entity_name=feature_spec_name,\n",
    "        scale_to_zero_enabled=True,\n",
    "        workload_size=\"Small\"\n",
    "      )\n",
    "    ]\n",
    "  )\n",
    ")"
   ]
  },
  {
   "cell_type": "markdown",
   "metadata": {
    "application/vnd.databricks.v1+cell": {
     "cellMetadata": {},
     "inputWidgets": {},
     "nuid": "fb8e9cfc-3274-4d72-b36e-d0fc04e6b190",
     "showTitle": false,
     "tableResultSettingsMap": {},
     "title": ""
    }
   },
   "source": [
    "Generate a small pyfunc function"
   ]
  },
  {
   "cell_type": "code",
   "execution_count": 0,
   "metadata": {
    "application/vnd.databricks.v1+cell": {
     "cellMetadata": {
      "byteLimit": 2048000,
      "rowLimit": 10000
     },
     "inputWidgets": {},
     "nuid": "e0a8b597-a2ea-4ac1-b469-b2e563b8050e",
     "showTitle": false,
     "tableResultSettingsMap": {},
     "title": ""
    }
   },
   "outputs": [],
   "source": [
    "import pandas as pd\n",
    "from mlflow.pyfunc import PythonModel\n",
    "from databricks.sdk import WorkspaceClient\n",
    "from databricks.sdk.service.catalog import OnlineTableSpec\n",
    "\n",
    "class DailyAverageModel(PythonModel):\n",
    "    def __init__(self, online_table_name, value_column, date_column):\n",
    "        self.online_table_name = online_table_name\n",
    "        self.value_column = value_column\n",
    "        self.date_column = date_column\n",
    "        self.workspace_client = WorkspaceClient()\n",
    "        \n",
    "    def load_context(self, context):\n",
    "        # Initialize any resources needed during model loading\n",
    "        pass\n",
    "        \n",
    "    def predict(self, context, model_input):\n",
    "        # Query the online table\n",
    "        query = f\"\"\"\n",
    "        SELECT * FROM {self.online_table_name}\n",
    "        WHERE {self.date_column} IS NOT NULL\n",
    "        \"\"\"\n",
    "        \n",
    "        # Execute the query using the workspace client\n",
    "        result = self.workspace_client.sql.execute_and_fetch(query)\n",
    "        \n",
    "        # Convert to pandas DataFrame\n",
    "        df = pd.DataFrame(result)\n",
    "        \n",
    "        # Convert date column to datetime\n",
    "        df[self.date_column] = pd.to_datetime(df[self.date_column])\n",
    "        \n",
    "        # Group by day and calculate average\n",
    "        daily_avg = df.groupby(df[self.date_column].dt.date)[self.value_column].mean()\n",
    "        \n",
    "        # Return the result as a DataFrame\n",
    "        return pd.DataFrame({\n",
    "            'date': daily_avg.index,\n",
    "            f'avg_{self.value_column}': daily_avg.values\n",
    "        })\n",
    "\n",
    "# Example usage:\n",
    "# model = DailyAverageModel(\n",
    "#     online_table_name=\"main.default.my_online_table\",\n",
    "#     value_column=\"sales\",\n",
    "#     date_column=\"transaction_date\"\n",
    "# )\n",
    "# result = model.predict(None, None)\n"
   ]
  },
  {
   "cell_type": "markdown",
   "metadata": {
    "application/vnd.databricks.v1+cell": {
     "cellMetadata": {},
     "inputWidgets": {},
     "nuid": "f0eebdd0-e63c-4270-b039-5bfbd7f051e1",
     "showTitle": false,
     "tableResultSettingsMap": {},
     "title": ""
    }
   },
   "source": [
    "Register the model to Unity Catalog"
   ]
  },
  {
   "cell_type": "code",
   "execution_count": 0,
   "metadata": {
    "application/vnd.databricks.v1+cell": {
     "cellMetadata": {
      "byteLimit": 2048000,
      "rowLimit": 10000
     },
     "inputWidgets": {},
     "nuid": "48efd10b-0c4c-42be-b0e2-e0f6d17b6f7a",
     "showTitle": false,
     "tableResultSettingsMap": {},
     "title": ""
    }
   },
   "outputs": [],
   "source": [
    "import mlflow\n",
    "\n",
    "# Define model parameters\n",
    "online_table_name = \"shm.iot_turbine.turbine_hourly_online\"\n",
    "value_column = \"avg_energy\"\n",
    "date_column = \"hourly_timestamp\"\n",
    "\n",
    "# Create model instance\n",
    "model = DailyAverageModel(\n",
    "    online_table_name=online_table_name,\n",
    "    value_column=value_column,\n",
    "    date_column=date_column\n",
    ")\n",
    "\n",
    "model.predict(None,None)\n",
    "\n",
    "# # Log the model\n",
    "# with mlflow.start_run():\n",
    "#     mlflow.pyfunc.log_model(\n",
    "#         artifact_path=\"daily_avg_model\",\n",
    "#         python_model=model,\n",
    "#         registered_model_name=\"daily_average_calculator\",\n",
    "#         input_example=None\n",
    "#     )"
   ]
  },
  {
   "cell_type": "markdown",
   "metadata": {
    "application/vnd.databricks.v1+cell": {
     "cellMetadata": {},
     "inputWidgets": {},
     "nuid": "771a7ea5-70d6-4042-910c-7bbb7718b9aa",
     "showTitle": false,
     "tableResultSettingsMap": {},
     "title": ""
    }
   },
   "source": [
    "Test the registered model"
   ]
  }
 ],
 "metadata": {
  "application/vnd.databricks.v1+notebook": {
   "computePreferences": null,
   "dashboards": [],
   "environmentMetadata": {
    "base_environment": "",
    "environment_version": "2"
   },
   "language": "python",
   "notebookMetadata": {
    "mostRecentlyExecutedCommandWithImplicitDF": {
     "commandId": 3244118383124824,
     "dataframes": [
      "_sqldf"
     ]
    },
    "pythonIndentUnit": 2
   },
   "notebookName": "online_table",
   "widgets": {}
  },
  "language_info": {
   "name": "python"
  }
 },
 "nbformat": 4,
 "nbformat_minor": 0
}
