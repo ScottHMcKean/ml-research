{
 "cells": [
  {
   "cell_type": "code",
   "execution_count": 2,
   "metadata": {},
   "outputs": [
    {
     "data": {
      "application/vnd.jupyter.widget-view+json": {
       "model_id": "dbc07a6a367247df84129ce0c7dad240",
       "version_major": 2,
       "version_minor": 0
      },
      "text/plain": [
       "README.md:   0%|          | 0.00/11.2k [00:00<?, ?B/s]"
      ]
     },
     "metadata": {},
     "output_type": "display_data"
    },
    {
     "data": {
      "application/vnd.jupyter.widget-view+json": {
       "model_id": "49fecbdba3b74234ab09b94008cd3baf",
       "version_major": 2,
       "version_minor": 0
      },
      "text/plain": [
       "train-00000-of-00001.parquet:   0%|          | 0.00/237M [00:00<?, ?B/s]"
      ]
     },
     "metadata": {},
     "output_type": "display_data"
    },
    {
     "data": {
      "application/vnd.jupyter.widget-view+json": {
       "model_id": "811221e6a65b4e68948224669bec295f",
       "version_major": 2,
       "version_minor": 0
      },
      "text/plain": [
       "test-00000-of-00001.parquet:   0%|          | 0.00/4.14M [00:00<?, ?B/s]"
      ]
     },
     "metadata": {},
     "output_type": "display_data"
    },
    {
     "data": {
      "application/vnd.jupyter.widget-view+json": {
       "model_id": "0ba11ce0987344808cc349270eff03ec",
       "version_major": 2,
       "version_minor": 0
      },
      "text/plain": [
       "Generating train split:   0%|          | 0/1000 [00:00<?, ? examples/s]"
      ]
     },
     "metadata": {},
     "output_type": "display_data"
    },
    {
     "data": {
      "application/vnd.jupyter.widget-view+json": {
       "model_id": "ecfa2e51fac74949959e7787830fe4b5",
       "version_major": 2,
       "version_minor": 0
      },
      "text/plain": [
       "Generating test split:   0%|          | 0/29 [00:00<?, ? examples/s]"
      ]
     },
     "metadata": {},
     "output_type": "display_data"
    }
   ],
   "source": [
    "import tensorflow as tf\n",
    "from datasets import load_dataset\n",
    "cppe5 = load_dataset(\"cppe-5\")"
   ]
  },
  {
   "cell_type": "code",
   "execution_count": 5,
   "metadata": {},
   "outputs": [
    {
     "name": "stderr",
     "output_type": "stream",
     "text": [
      "Processing batches:   0%|          | 0/20 [00:00<?, ?it/s]"
     ]
    },
    {
     "name": "stdout",
     "output_type": "stream",
     "text": [
      "Error processing example 28: cannot write mode CMYK as PNG\n"
     ]
    },
    {
     "name": "stderr",
     "output_type": "stream",
     "text": [
      "Processing batches: 100%|██████████| 20/20 [27:01<00:00, 81.06s/it] \n"
     ]
    }
   ],
   "source": [
    "import os\n",
    "import json\n",
    "from PIL import Image\n",
    "import io\n",
    "from tqdm import tqdm\n",
    "\n",
    "# Define single output path\n",
    "output_path = \"../data/cppe5/\"\n",
    "os.makedirs(output_path, exist_ok=True)\n",
    "\n",
    "# Prepare all examples first\n",
    "def prepare_batch(examples, batch_size=50):\n",
    "    batches = []\n",
    "    current_batch = []\n",
    "    \n",
    "    for idx, example in enumerate(examples):\n",
    "        image = example['image']\n",
    "        image_filename = f\"image_{int(example['image_id']):04d}.png\"\n",
    "        \n",
    "        # Prepare image and annotation data\n",
    "        annotation = {\n",
    "            \"image_id\": example['image_id'],\n",
    "            \"file_name\": image_filename,\n",
    "            \"width\": example['width'],\n",
    "            \"height\": example['height'],\n",
    "            \"objects\": example['objects']\n",
    "        }\n",
    "        \n",
    "        current_batch.append((idx, image, image_filename, annotation))\n",
    "        \n",
    "        if len(current_batch) >= batch_size:\n",
    "            batches.append(current_batch)\n",
    "            current_batch = []\n",
    "    \n",
    "    if current_batch:\n",
    "        batches.append(current_batch)\n",
    "    \n",
    "    return batches\n",
    "\n",
    "# Process batches\n",
    "def save_batch(batch):\n",
    "    for idx, image, image_filename, annotation in batch:\n",
    "        try:\n",
    "            # Save image\n",
    "            image_path = os.path.join(output_path, image_filename)\n",
    "            image.save(image_path, optimize=True)\n",
    "            \n",
    "            # Save annotation alongside image\n",
    "            annotation_filename = image_filename.replace(\".png\",\".json\")\n",
    "            annotation_path = os.path.join(output_path, annotation_filename)\n",
    "            with open(annotation_path, 'w') as f:\n",
    "                json.dump(annotation, f)\n",
    "                \n",
    "        except Exception as e:\n",
    "            print(f\"Error processing example {idx}: {e}\")\n",
    "\n",
    "# Process all examples in batches\n",
    "batches = prepare_batch(cppe5['train'], batch_size=50)\n",
    "for batch in tqdm(batches, desc=\"Processing batches\"):\n",
    "    save_batch(batch)"
   ]
  }
 ],
 "metadata": {
  "kernelspec": {
   "display_name": ".venv",
   "language": "python",
   "name": "python3"
  },
  "language_info": {
   "codemirror_mode": {
    "name": "ipython",
    "version": 3
   },
   "file_extension": ".py",
   "mimetype": "text/x-python",
   "name": "python",
   "nbconvert_exporter": "python",
   "pygments_lexer": "ipython3",
   "version": "3.11.11"
  }
 },
 "nbformat": 4,
 "nbformat_minor": 2
}
