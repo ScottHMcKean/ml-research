{
 "cells": [
  {
   "cell_type": "markdown",
   "metadata": {
    "application/vnd.databricks.v1+cell": {
     "cellMetadata": {},
     "inputWidgets": {},
     "nuid": "b15118d6-6c59-41e7-a6ea-6dd598ed4f7d",
     "showTitle": false,
     "tableResultSettingsMap": {},
     "title": ""
    }
   },
   "source": [
    "The following notebook runs through downloading an object detection dataset to volumes and training a basic Tensorflow convolutional network to do object detection.\n",
    "\n",
    "It is designed to use DBR 15.4ML"
   ]
  },
  {
   "cell_type": "markdown",
   "metadata": {
    "application/vnd.databricks.v1+cell": {
     "cellMetadata": {},
     "inputWidgets": {},
     "nuid": "b554bb92-aa6e-4891-b7e9-0ab83ec2db48",
     "showTitle": false,
     "tableResultSettingsMap": {},
     "title": ""
    }
   },
   "source": [
    "Let's use Huggingface Datasets to get the CPPE-5 Dataset"
   ]
  },
  {
   "cell_type": "code",
   "execution_count": 0,
   "metadata": {
    "application/vnd.databricks.v1+cell": {
     "cellMetadata": {
      "byteLimit": 2048000,
      "rowLimit": 10000
     },
     "inputWidgets": {},
     "nuid": "937fe896-1645-4afe-ac1d-baf3ade8dbaf",
     "showTitle": false,
     "tableResultSettingsMap": {},
     "title": ""
    }
   },
   "outputs": [],
   "source": [
    "from datasets import load_dataset\n",
    "cppe5 = load_dataset(\"cppe-5\")"
   ]
  },
  {
   "cell_type": "markdown",
   "metadata": {
    "application/vnd.databricks.v1+cell": {
     "cellMetadata": {},
     "inputWidgets": {},
     "nuid": "9439fc99-c71b-4ab3-9594-8bc60af2d2b4",
     "showTitle": false,
     "tableResultSettingsMap": {},
     "title": ""
    }
   },
   "source": [
    "This takes ~15 minutes to read, parse, and write out an annoted dataset with raw images and json annotations"
   ]
  },
  {
   "cell_type": "code",
   "execution_count": 0,
   "metadata": {
    "application/vnd.databricks.v1+cell": {
     "cellMetadata": {
      "byteLimit": 2048000,
      "rowLimit": 10000
     },
     "inputWidgets": {},
     "nuid": "7ac6cfed-c1e7-4204-ae08-5082089e2db7",
     "showTitle": false,
     "tableResultSettingsMap": {},
     "title": ""
    }
   },
   "outputs": [],
   "source": [
    "import os\n",
    "import json\n",
    "from PIL import Image\n",
    "import io\n",
    "\n",
    "# Define paths for saving\n",
    "base_path = \"/Volumes/shm/default/cppe5\"\n",
    "image_path = os.path.join(base_path, \"images\")\n",
    "annotation_path = os.path.join(base_path, \"annotations\")\n",
    "\n",
    "# Create directories if they don't exist\n",
    "os.makedirs(image_path, exist_ok=True)\n",
    "os.makedirs(annotation_path, exist_ok=True)\n",
    "\n",
    "def save_example(example, idx):\n",
    "    # Save image\n",
    "    image = example['image']\n",
    "    image_filename = f\"image_{int(example['image_id']):04d}.png\"\n",
    "    image.save(os.path.join(image_path, image_filename), optimize=True)\n",
    "    \n",
    "    # Prepare annotation\n",
    "    annotation = {\n",
    "        \"image_id\": example['image_id'],\n",
    "        \"file_name\": image_filename,\n",
    "        \"width\": example['width'],\n",
    "        \"height\": example['height'],\n",
    "        \"objects\": example['objects']\n",
    "    }\n",
    "    \n",
    "    # Save annotation\n",
    "    with open(os.path.join(annotation_path, f\"annotation_{idx}.json\"), 'w') as f:\n",
    "        json.dump(annotation, f)\n",
    "\n",
    "# Process and save each example\n",
    "saves = 0\n",
    "for idx, example in enumerate(cppe5['train']):\n",
    "    try:\n",
    "        save_example(example, idx)\n",
    "        if (saves + 1) % 25 == 0:\n",
    "            print(f\"Saved {idx + 1} examples\")\n",
    "        saves += 1\n",
    "    except:\n",
    "        continue"
   ]
  },
  {
   "cell_type": "code",
   "execution_count": 0,
   "metadata": {
    "application/vnd.databricks.v1+cell": {
     "cellMetadata": {},
     "inputWidgets": {},
     "nuid": "1b50087e-00cb-49fd-b35d-23b97a21c5cc",
     "showTitle": false,
     "tableResultSettingsMap": {},
     "title": ""
    }
   },
   "outputs": [],
   "source": []
  }
 ],
 "metadata": {
  "application/vnd.databricks.v1+notebook": {
   "computePreferences": null,
   "dashboards": [],
   "environmentMetadata": {
    "base_environment": "",
    "environment_version": "2"
   },
   "language": "python",
   "notebookMetadata": {
    "pythonIndentUnit": 2
   },
   "notebookName": "tensorflow_cppe_dataset_prep",
   "widgets": {}
  },
  "language_info": {
   "name": "python"
  }
 },
 "nbformat": 4,
 "nbformat_minor": 0
}
